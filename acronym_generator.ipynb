{
  "nbformat": 4,
  "nbformat_minor": 0,
  "metadata": {
    "colab": {
      "name": "acronym_generator.ipynb",
      "provenance": [],
      "authorship_tag": "ABX9TyPxyOFReUAipvo1qRuBmh++",
      "include_colab_link": true
    },
    "kernelspec": {
      "name": "python3",
      "display_name": "Python 3"
    },
    "language_info": {
      "name": "python"
    }
  },
  "cells": [
    {
      "cell_type": "markdown",
      "metadata": {
        "id": "view-in-github",
        "colab_type": "text"
      },
      "source": [
        "<a href=\"https://colab.research.google.com/github/dineshsainii/projects/blob/main/acronym_generator.ipynb\" target=\"_parent\"><img src=\"https://colab.research.google.com/assets/colab-badge.svg\" alt=\"Open In Colab\"/></a>"
      ]
    },
    {
      "cell_type": "markdown",
      "metadata": {
        "id": "_2NbsnhFuFsz"
      },
      "source": [
        "#What is an acronym?\n",
        "An acronym is a short word that is made from the first letters of a group of words. For example NLP is an acronym created from Natural Language Processing."
      ]
    },
    {
      "cell_type": "markdown",
      "metadata": {
        "id": "z7OR1t0vucir"
      },
      "source": [
        "#Creating Acronyms by python.\n",
        "We can do this by splitting and indexing to get the first letter and then combining them to get our acronym."
      ]
    },
    {
      "cell_type": "code",
      "metadata": {
        "colab": {
          "base_uri": "https://localhost:8080/"
        },
        "id": "AUNJ9pnbtz1X",
        "outputId": "5e88bf14-3524-4820-971e-8e421a2fe8cb"
      },
      "source": [
        "#@title Enter phrase\n",
        "#below line should be uncommented if you are using colab\n",
        "user_input = \"Artificial Intelligence\" #@param {type:\"string\"}\n",
        "#below line should be uncommented if you aren't using it on colab.\n",
        "#user_input = input(\"Enter a phrase\")\n",
        "text = user_input.split()\n",
        "a = \" \"\n",
        "for i in text:\n",
        "  a= a+str(i[0]).upper()\n",
        "print(a)"
      ],
      "execution_count": 5,
      "outputs": [
        {
          "output_type": "stream",
          "text": [
            " AI\n"
          ],
          "name": "stdout"
        }
      ]
    },
    {
      "cell_type": "markdown",
      "metadata": {
        "id": "-fWq7zZvt8MO"
      },
      "source": [
        ""
      ]
    }
  ]
}